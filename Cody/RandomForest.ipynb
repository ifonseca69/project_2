{
 "cells": [
  {
   "cell_type": "code",
   "execution_count": 2,
   "id": "e3b09d45-f592-4e79-8c26-c08ec880f5f0",
   "metadata": {},
   "outputs": [],
   "source": [
    "# Imported Libraries\n",
    "import pandas as pd\n",
    "import numpy as np # linear algebra\n",
    "import matplotlib.pyplot as plt\n",
    "import seaborn as sns\n",
    "from sklearn.ensemble import RandomForestClassifier\n",
    "from sklearn.model_selection import train_test_split\n",
    "from sklearn.metrics import accuracy_score, classification_report, confusion_matrix\n",
    "from sklearn.preprocessing import StandardScaler\n",
    "from imblearn.over_sampling import SMOTE\n",
    "from sklearn.model_selection import cross_val_score\n",
    "from imblearn.under_sampling import RandomUnderSampler\n",
    "\n",
    "\n"
   ]
  },
  {
   "cell_type": "code",
   "execution_count": 3,
   "id": "bc7accdd-963f-4560-84d7-9e79b9cb169b",
   "metadata": {},
   "outputs": [],
   "source": [
    "df_train = pd.read_csv('../Resources/train_data.csv')"
   ]
  },
  {
   "cell_type": "code",
   "execution_count": 10,
   "id": "912b5aca-2ec5-4fbf-a31c-810c7e250a6e",
   "metadata": {},
   "outputs": [
    {
     "name": "stdout",
     "output_type": "stream",
     "text": [
      "Accuracy: 0.999622290661863\n",
      "Classification Report:Default Random Forest\n",
      "              precision    recall  f1-score   support\n",
      "\n",
      "           0       1.00      1.00      1.00     34352\n",
      "           1       0.96      0.83      0.89        66\n",
      "\n",
      "    accuracy                           1.00     34418\n",
      "   macro avg       0.98      0.92      0.95     34418\n",
      "weighted avg       1.00      1.00      1.00     34418\n",
      "\n",
      "[[34350     2]\n",
      " [   11    55]]\n"
     ]
    },
    {
     "data": {
      "image/png": "[encoded data removed]",
      "text/plain": [
       "<Figure size 1000x700 with 2 Axes>"
      ]
     },
     "metadata": {},
     "output_type": "display_data"
    }
   ],
   "source": [
    "# Split the data into features and target\n",
    "X = df_train.drop('Class', axis=1) \n",
    "y = df_train['Class']  \n",
    "\n",
    "# Split the data into training and testing sets\n",
    "X_train, X_test, y_train, y_test = train_test_split(X, y, test_size=0.2, random_state=42)\n",
    "\n",
    "# Build the model\n",
    "model1 = RandomForestClassifier(n_estimators=100, random_state=42)\n",
    "\n",
    "# Train the model\n",
    "model1.fit(X_train, y_train)\n",
    "\n",
    "# Evaluate the model\n",
    "y_pred1 = model1.predict(X_test)\n",
    "accuracy = accuracy_score(y_test, y_pred1)\n",
    "report = classification_report(y_test, y_pred1)\n",
    "\n",
    "print(f'Accuracy: {accuracy}')\n",
    "print('Classification Report:Default Random Forest')\n",
    "print(report)\n",
    "\n",
    "# Create Confusion Matrix\n",
    "conf_matrix = confusion_matrix(y_test, y_pred1)\n",
    "print(conf_matrix)\n",
    "\n",
    "plt.figure(figsize=(10, 7))\n",
    "sns.heatmap(conf_matrix, annot=True, fmt='.2f', cmap='Blues', xticklabels=model1.classes_, yticklabels=model1.classes_)\n",
    "plt.xlabel('Predicted')\n",
    "plt.ylabel('Actual')\n",
    "plt.title('Confusion Matrix')\n",
    "plt.show()\n"
   ]
  },
  {
   "cell_type": "markdown",
   "id": "8e266107-c0e4-45a3-aab8-088a4b752bec",
   "metadata": {},
   "source": [
    "Using SMOTE to oversample\n"
   ]
  },
  {
   "cell_type": "code",
   "execution_count": 12,
   "id": "d86e66eb-eb40-4d2e-820a-503f98c1647f",
   "metadata": {},
   "outputs": [
    {
     "name": "stdout",
     "output_type": "stream",
     "text": [
      "Accuracy: 0.9998835381121528\n",
      "Classification Report: SMOTE Tuned Random Forest\n",
      "              precision    recall  f1-score   support\n",
      "\n",
      "           0       1.00      1.00      1.00     34434\n",
      "           1       1.00      1.00      1.00     34258\n",
      "\n",
      "    accuracy                           1.00     68692\n",
      "   macro avg       1.00      1.00      1.00     68692\n",
      "weighted avg       1.00      1.00      1.00     68692\n",
      "\n",
      "[[34426     8]\n",
      " [    0 34258]]\n"
     ]
    }
   ],
   "source": [
    "\n",
    "# Split the data into features and target\n",
    "X = df_train.drop('Class', axis=1) \n",
    "y = df_train['Class']  \n",
    "\n",
    "# Handle imbalanced dataset using SMOTE\n",
    "smote = SMOTE(random_state=42)\n",
    "X_resampled, y_resampled = smote.fit_resample(X, y)\n",
    "\n",
    "# Split the data into training and testing sets\n",
    "X_train, X_test, y_train, y_test = train_test_split(X_resampled, y_resampled, test_size=0.2, random_state=42)\n",
    "\n",
    "# Build the model\n",
    "rf2_model = RandomForestClassifier(n_estimators=100, random_state=42)\n",
    "\n",
    "#train the model\n",
    "rf2_model.fit(X_train, y_train)\n",
    "\n",
    "# Make predictions using the testing data\n",
    "predictions = rf2_model.predict(X_test)\n",
    "\n",
    "# Evaluate the model\n",
    "y_pred2 = rf2_model.predict(X_test)\n",
    "accuracy2 = accuracy_score(y_test, y_pred2)\n",
    "report2 = classification_report(y_test, y_pred2)\n",
    "\n",
    "print(f'Accuracy: {accuracy2}')\n",
    "print('Classification Report: SMOTE Tuned Random Forest')\n",
    "print(report2)\n",
    "\n",
    "# Create Confusion Matrix\n",
    "conf_matrix2 = confusion_matrix(y_test, y_pred2)\n",
    "print(conf_matrix2)\n"
   ]
  },
  {
   "cell_type": "code",
   "execution_count": 13,
   "id": "565e7f27-0a3c-4283-b119-c481ba8587a4",
   "metadata": {},
   "outputs": [
    {
     "name": "stdout",
     "output_type": "stream",
     "text": [
      "Accuracy: 0.999622290661863\n",
      "Classification Report: RUS Tuned Random Forest\n",
      "              precision    recall  f1-score   support\n",
      "\n",
      "           0       0.91      0.96      0.93        82\n",
      "           1       0.95      0.87      0.91        62\n",
      "\n",
      "    accuracy                           0.92       144\n",
      "   macro avg       0.93      0.92      0.92       144\n",
      "weighted avg       0.92      0.92      0.92       144\n",
      "\n",
      "[[79  3]\n",
      " [ 8 54]]\n"
     ]
    }
   ],
   "source": [
    "# Split the data into features and target\n",
    "X = df_train.drop('Class', axis=1) \n",
    "y = df_train['Class']  \n",
    "\n",
    "rus = RandomUnderSampler(random_state=42)\n",
    "X_resampled, y_resampled = rus.fit_resample(X, y)\n",
    "\n",
    "# Split the data into training and testing sets\n",
    "X_train, X_test, y_train, y_test = train_test_split(X_resampled, y_resampled, test_size=0.2, random_state=42)\n",
    "\n",
    "# Build the model\n",
    "rf3_model = RandomForestClassifier(n_estimators=100, random_state=42)\n",
    "\n",
    "#train the model\n",
    "rf3_model.fit(X_train, y_train)\n",
    "\n",
    "# Make predictions using the testing data\n",
    "predictions = rf3_model.predict(X_test)\n",
    "\n",
    "# Evaluate the model\n",
    "y_pred = rf3_model.predict(X_test)\n",
    "accuracy2 = accuracy_score(y_test, y_pred)\n",
    "report2 = classification_report(y_test, y_pred)\n",
    "\n",
    "print(f'Accuracy: {accuracy}')\n",
    "print('Classification Report: RUS Tuned Random Forest')\n",
    "print(report2)\n",
    "\n",
    "# Create Confusion Matrix\n",
    "conf_matrix = confusion_matrix(y_test, y_pred)\n",
    "print(conf_matrix)\n"
   ]
  },
  {
   "cell_type": "code",
   "execution_count": null,
   "id": "418b6dbb-590c-47d3-a846-26c32888d2fb",
   "metadata": {},
   "outputs": [],
   "source": []
  },
  {
   "cell_type": "code",
   "execution_count": null,
   "id": "7d30c3a1-3775-4029-a6d6-f7c503c44af8",
   "metadata": {},
   "outputs": [],
   "source": []
  },
  {
   "cell_type": "code",
   "execution_count": null,
   "id": "b8c77db4-5b05-433a-b562-884beb517e0b",
   "metadata": {},
   "outputs": [],
   "source": []
  },
  {
   "cell_type": "code",
   "execution_count": null,
   "id": "81660d4d-8a61-42bb-b29e-48e69cf2db13",
   "metadata": {},
   "outputs": [],
   "source": []
  },
  {
   "cell_type": "code",
   "execution_count": null,
   "id": "ec9f94c3-1ac2-4ceb-bccc-5dec5737f623",
   "metadata": {},
   "outputs": [],
   "source": []
  }
 ],
 "metadata": {
  "kernelspec": {
   "display_name": "Python 3 (ipykernel)",
   "language": "python",
   "name": "python3"
  },
  "language_info": {
   "codemirror_mode": {
    "name": "ipython",
    "version": 3
   },
   "file_extension": ".py",
   "mimetype": "text/x-python",
   "name": "python",
   "nbconvert_exporter": "python",
   "pygments_lexer": "ipython3",
   "version": "3.12.4"
  }
 },
 "nbformat": 4,
 "nbformat_minor": 5
}
