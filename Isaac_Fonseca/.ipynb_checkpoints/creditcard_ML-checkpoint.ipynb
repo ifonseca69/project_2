{
 "cells": [
  {
   "cell_type": "code",
   "execution_count": 2,
   "id": "15429738-61bb-4d57-9ccb-a7d7ccec630d",
   "metadata": {},
   "outputs": [],
   "source": [
    "# Imported Libraries\n",
    "import numpy as np \n",
    "import pandas as pd \n",
    "import matplotlib.pyplot as plt\n",
    "import seaborn as sns\n",
    "from sklearn.manifold import TSNE\n",
    "from sklearn.decomposition import PCA, TruncatedSVD\n",
    "import matplotlib.patches as mpatches\n",
    "import time\n",
    "\n",
    "# Classifier Libraries\n",
    "from sklearn.linear_model import LogisticRegression\n",
    "from sklearn.svm import SVC\n",
    "from sklearn.neighbors import KNeighborsClassifier\n",
    "from sklearn.tree import DecisionTreeClassifier\n",
    "from sklearn.ensemble import RandomForestClassifier\n",
    "import collections\n",
    "\n",
    "import xgboost as xgb\n",
    "from sklearn.metrics import accuracy_score, classification_report\n",
    "from sklearn.model_selection import GridSearchCV\n",
    "from imblearn.combine import SMOTEENN\n",
    "\n",
    "# Other Libraries\n",
    "from imblearn.pipeline import Pipeline\n",
    "from sklearn.model_selection import train_test_split\n",
    "from imblearn.pipeline import make_pipeline as imbalanced_make_pipeline\n",
    "from imblearn.over_sampling import SMOTE\n",
    "from imblearn.under_sampling import NearMiss\n",
    "from imblearn.under_sampling import RandomUnderSampler\n",
    "from imblearn.metrics import classification_report_imbalanced\n",
    "from sklearn.metrics import classification_report\n",
    "from sklearn.metrics import precision_score, recall_score, f1_score, roc_auc_score, accuracy_score, classification_report\n",
    "from collections import Counter\n",
    "from sklearn.model_selection import KFold, StratifiedKFold\n",
    "import warnings\n",
    "warnings.filterwarnings(\"ignore\")\n"
   ]
  },
  {
   "cell_type": "code",
   "execution_count": 3,
   "id": "f1fc1006-869b-44ed-9381-67c297d48906",
   "metadata": {},
   "outputs": [],
   "source": [
    "scaled_train_df = pd.read_csv('../Resources/scaled_train_data.csv')\n"
   ]
  },
  {
   "cell_type": "code",
   "execution_count": 4,
   "id": "a9c11ec2-720d-446a-b24c-c59c3f2dc68e",
   "metadata": {},
   "outputs": [
    {
     "data": {
      "text/html": [
       "<div>\n",
       "<style scoped>\n",
       "    .dataframe tbody tr th:only-of-type {\n",
       "        vertical-align: middle;\n",
       "    }\n",
       "\n",
       "    .dataframe tbody tr th {\n",
       "        vertical-align: top;\n",
       "    }\n",
       "\n",
       "    .dataframe thead th {\n",
       "        text-align: right;\n",
       "    }\n",
       "</style>\n",
       "<table border=\"1\" class=\"dataframe\">\n",
       "  <thead>\n",
       "    <tr style=\"text-align: right;\">\n",
       "      <th></th>\n",
       "      <th>V1</th>\n",
       "      <th>V2</th>\n",
       "      <th>V3</th>\n",
       "      <th>V4</th>\n",
       "      <th>V5</th>\n",
       "      <th>V6</th>\n",
       "      <th>V7</th>\n",
       "      <th>V8</th>\n",
       "      <th>V9</th>\n",
       "      <th>V10</th>\n",
       "      <th>...</th>\n",
       "      <th>V22</th>\n",
       "      <th>V23</th>\n",
       "      <th>V24</th>\n",
       "      <th>V25</th>\n",
       "      <th>V26</th>\n",
       "      <th>V27</th>\n",
       "      <th>V28</th>\n",
       "      <th>Class</th>\n",
       "      <th>scaled_amount</th>\n",
       "      <th>scaled_time</th>\n",
       "    </tr>\n",
       "  </thead>\n",
       "  <tbody>\n",
       "    <tr>\n",
       "      <th>0</th>\n",
       "      <td>-1.359807</td>\n",
       "      <td>-0.072781</td>\n",
       "      <td>2.536347</td>\n",
       "      <td>1.378155</td>\n",
       "      <td>-0.338321</td>\n",
       "      <td>0.462388</td>\n",
       "      <td>0.239599</td>\n",
       "      <td>0.098698</td>\n",
       "      <td>0.363787</td>\n",
       "      <td>0.090794</td>\n",
       "      <td>...</td>\n",
       "      <td>0.277838</td>\n",
       "      <td>-0.110474</td>\n",
       "      <td>0.066928</td>\n",
       "      <td>0.128539</td>\n",
       "      <td>-0.189115</td>\n",
       "      <td>0.133558</td>\n",
       "      <td>-0.021053</td>\n",
       "      <td>0</td>\n",
       "      <td>1.788346</td>\n",
       "      <td>-1.623936</td>\n",
       "    </tr>\n",
       "    <tr>\n",
       "      <th>1</th>\n",
       "      <td>1.191857</td>\n",
       "      <td>0.266151</td>\n",
       "      <td>0.166480</td>\n",
       "      <td>0.448154</td>\n",
       "      <td>0.060018</td>\n",
       "      <td>-0.082361</td>\n",
       "      <td>-0.078803</td>\n",
       "      <td>0.085102</td>\n",
       "      <td>-0.255425</td>\n",
       "      <td>-0.166974</td>\n",
       "      <td>...</td>\n",
       "      <td>-0.638672</td>\n",
       "      <td>0.101288</td>\n",
       "      <td>-0.339846</td>\n",
       "      <td>0.167170</td>\n",
       "      <td>0.125895</td>\n",
       "      <td>-0.008983</td>\n",
       "      <td>0.014724</td>\n",
       "      <td>0</td>\n",
       "      <td>-0.269786</td>\n",
       "      <td>-1.623936</td>\n",
       "    </tr>\n",
       "    <tr>\n",
       "      <th>2</th>\n",
       "      <td>-1.358354</td>\n",
       "      <td>-1.340163</td>\n",
       "      <td>1.773209</td>\n",
       "      <td>0.379780</td>\n",
       "      <td>-0.503198</td>\n",
       "      <td>1.800499</td>\n",
       "      <td>0.791461</td>\n",
       "      <td>0.247676</td>\n",
       "      <td>-1.514654</td>\n",
       "      <td>0.207643</td>\n",
       "      <td>...</td>\n",
       "      <td>0.771679</td>\n",
       "      <td>0.909412</td>\n",
       "      <td>-0.689281</td>\n",
       "      <td>-0.327642</td>\n",
       "      <td>-0.139097</td>\n",
       "      <td>-0.055353</td>\n",
       "      <td>-0.059752</td>\n",
       "      <td>0</td>\n",
       "      <td>4.996638</td>\n",
       "      <td>-1.623910</td>\n",
       "    </tr>\n",
       "    <tr>\n",
       "      <th>3</th>\n",
       "      <td>-0.966272</td>\n",
       "      <td>-0.185226</td>\n",
       "      <td>1.792993</td>\n",
       "      <td>-0.863291</td>\n",
       "      <td>-0.010309</td>\n",
       "      <td>1.247203</td>\n",
       "      <td>0.237609</td>\n",
       "      <td>0.377436</td>\n",
       "      <td>-1.387024</td>\n",
       "      <td>-0.054952</td>\n",
       "      <td>...</td>\n",
       "      <td>0.005274</td>\n",
       "      <td>-0.190321</td>\n",
       "      <td>-1.175575</td>\n",
       "      <td>0.647376</td>\n",
       "      <td>-0.221929</td>\n",
       "      <td>0.062723</td>\n",
       "      <td>0.061458</td>\n",
       "      <td>0</td>\n",
       "      <td>1.422468</td>\n",
       "      <td>-1.623910</td>\n",
       "    </tr>\n",
       "    <tr>\n",
       "      <th>4</th>\n",
       "      <td>-1.158233</td>\n",
       "      <td>0.877737</td>\n",
       "      <td>1.548718</td>\n",
       "      <td>0.403034</td>\n",
       "      <td>-0.407193</td>\n",
       "      <td>0.095921</td>\n",
       "      <td>0.592941</td>\n",
       "      <td>-0.270533</td>\n",
       "      <td>0.817739</td>\n",
       "      <td>0.753074</td>\n",
       "      <td>...</td>\n",
       "      <td>0.798278</td>\n",
       "      <td>-0.137458</td>\n",
       "      <td>0.141267</td>\n",
       "      <td>-0.206010</td>\n",
       "      <td>0.502292</td>\n",
       "      <td>0.219422</td>\n",
       "      <td>0.215153</td>\n",
       "      <td>0</td>\n",
       "      <td>0.672923</td>\n",
       "      <td>-1.623883</td>\n",
       "    </tr>\n",
       "  </tbody>\n",
       "</table>\n",
       "<p>5 rows × 31 columns</p>\n",
       "</div>"
      ],
      "text/plain": [
       "         V1        V2        V3        V4        V5        V6        V7  \\\n",
       "0 -1.359807 -0.072781  2.536347  1.378155 -0.338321  0.462388  0.239599   \n",
       "1  1.191857  0.266151  0.166480  0.448154  0.060018 -0.082361 -0.078803   \n",
       "2 -1.358354 -1.340163  1.773209  0.379780 -0.503198  1.800499  0.791461   \n",
       "3 -0.966272 -0.185226  1.792993 -0.863291 -0.010309  1.247203  0.237609   \n",
       "4 -1.158233  0.877737  1.548718  0.403034 -0.407193  0.095921  0.592941   \n",
       "\n",
       "         V8        V9       V10  ...       V22       V23       V24       V25  \\\n",
       "0  0.098698  0.363787  0.090794  ...  0.277838 -0.110474  0.066928  0.128539   \n",
       "1  0.085102 -0.255425 -0.166974  ... -0.638672  0.101288 -0.339846  0.167170   \n",
       "2  0.247676 -1.514654  0.207643  ...  0.771679  0.909412 -0.689281 -0.327642   \n",
       "3  0.377436 -1.387024 -0.054952  ...  0.005274 -0.190321 -1.175575  0.647376   \n",
       "4 -0.270533  0.817739  0.753074  ...  0.798278 -0.137458  0.141267 -0.206010   \n",
       "\n",
       "        V26       V27       V28  Class  scaled_amount  scaled_time  \n",
       "0 -0.189115  0.133558 -0.021053      0       1.788346    -1.623936  \n",
       "1  0.125895 -0.008983  0.014724      0      -0.269786    -1.623936  \n",
       "2 -0.139097 -0.055353 -0.059752      0       4.996638    -1.623910  \n",
       "3 -0.221929  0.062723  0.061458      0       1.422468    -1.623910  \n",
       "4  0.502292  0.219422  0.215153      0       0.672923    -1.623883  \n",
       "\n",
       "[5 rows x 31 columns]"
      ]
     },
     "execution_count": 4,
     "metadata": {},
     "output_type": "execute_result"
    }
   ],
   "source": [
    "scaled_train_df.head()"
   ]
  },
  {
   "cell_type": "code",
   "execution_count": 5,
   "id": "5689c8ec-0cf7-4637-910a-4a1408521295",
   "metadata": {},
   "outputs": [
    {
     "name": "stdout",
     "output_type": "stream",
     "text": [
      "             Count  Percentage\n",
      "Class                         \n",
      "0      171,730.000  99.791   %\n",
      "1          360.000   0.209   %\n"
     ]
    }
   ],
   "source": [
    "# Get the number of rows for the class\n",
    "class_distribution = scaled_train_df['Class'].value_counts()\n",
    "class_percentages = scaled_train_df['Class'].value_counts(normalize=True) * 100\n",
    "\n",
    "# Combine into a DataFrame for a clearer display\n",
    "class_summary = pd.DataFrame({'Count': class_distribution, 'Percentage': class_percentages})\n",
    "\n",
    "# Format the Count and Percentage columns\n",
    "class_summary['Count'] = class_summary['Count'].apply(lambda x: f\"{x:,.3f}\")\n",
    "class_summary['Percentage'] = class_summary['Percentage'].apply(lambda x: f\"{x:,.3f}   %\")\n",
    "\n",
    "print(class_summary)"
   ]
  },
  {
   "cell_type": "code",
   "execution_count": 6,
   "id": "0532728e-071e-41ae-b099-7b462ef4d62e",
   "metadata": {},
   "outputs": [
    {
     "name": "stdout",
     "output_type": "stream",
     "text": [
      "             Count  Percentage\n",
      "Class                         \n",
      "0      171,730.000  50.000   %\n",
      "1      171,730.000  50.000   %\n"
     ]
    }
   ],
   "source": [
    "# Assuming scaled_train_df is already defined\n",
    "X = scaled_train_df.drop('Class', axis=1)\n",
    "y = scaled_train_df['Class']\n",
    "\n",
    "# Define SMOTE and RandomUnderSampler\n",
    "smote = SMOTE(sampling_strategy='minority')\n",
    "under_sampler = RandomUnderSampler(sampling_strategy='majority')\n",
    "\n",
    "# Create a pipeline\n",
    "pipeline = Pipeline(steps=[('smote', smote), ('under', under_sampler)])\n",
    "\n",
    "# Apply the pipeline to the data\n",
    "X_resampled, y_resampled = pipeline.fit_resample(X, y)\n",
    "\n",
    "# Combine resampled data into a DataFrame\n",
    "resampled_df = pd.DataFrame(X_resampled, columns=X.columns)\n",
    "resampled_df['Class'] = y_resampled\n",
    "\n",
    "# Display the new class distribution\n",
    "class_distribution = resampled_df['Class'].value_counts()\n",
    "class_percentages = resampled_df['Class'].value_counts(normalize=True) * 100\n",
    "\n",
    "# Combine into a DataFrame for a clearer display\n",
    "class_summary = pd.DataFrame({'Count': class_distribution, 'Percentage': class_percentages})\n",
    "\n",
    "# Format the Count and Percentage columns\n",
    "class_summary['Count'] = class_summary['Count'].apply(lambda x: f\"{x:,.3f}\")\n",
    "class_summary['Percentage'] = class_summary['Percentage'].apply(lambda x: f\"{x:,.3f}   %\")\n",
    "\n",
    "print(class_summary)"
   ]
  },
  {
   "cell_type": "code",
   "execution_count": 7,
   "id": "adcf1111-ab09-4b64-99c3-444cf5d4227a",
   "metadata": {},
   "outputs": [],
   "source": [
    "# Split the data into training and testing sets\n",
    "X_train, X_val, y_train, y_val = train_test_split(X, y, test_size=0.2, random_state=42)"
   ]
  },
  {
   "cell_type": "markdown",
   "id": "72db292f-8439-4efc-a3b0-493ca6d48a3f",
   "metadata": {},
   "source": [
    "## Train and evaluate the Logistic Regression and the SVM models\n",
    "## with the Over-Sampling and Under-Sampling:"
   ]
  },
  {
   "cell_type": "code",
   "execution_count": 9,
   "id": "6846b818-fc1d-4c95-9a7a-4e2c04e3a266",
   "metadata": {},
   "outputs": [
    {
     "name": "stdout",
     "output_type": "stream",
     "text": [
      "Logistic Regression with Over-Sampling:\n",
      "               precision    recall  f1-score   support\n",
      "\n",
      "           0       1.00      0.98      0.99     34352\n",
      "           1       0.08      0.89      0.14        66\n",
      "\n",
      "    accuracy                           0.98     34418\n",
      "   macro avg       0.54      0.94      0.57     34418\n",
      "weighted avg       1.00      0.98      0.99     34418\n",
      "\n",
      "Logistic Regression with Under-Sampling:\n",
      "               precision    recall  f1-score   support\n",
      "\n",
      "           0       1.00      0.97      0.98     34352\n",
      "           1       0.05      0.91      0.10        66\n",
      "\n",
      "    accuracy                           0.97     34418\n",
      "   macro avg       0.53      0.94      0.54     34418\n",
      "weighted avg       1.00      0.97      0.98     34418\n",
      "\n"
     ]
    }
   ],
   "source": [
    "# Logistic Regression\n",
    "logistic_regression = LogisticRegression()\n",
    "\n",
    "# Pipelines for over-sampling\n",
    "over_pipeline_lr = Pipeline(steps=[('smote', smote), ('logistic', logistic_regression)])\n",
    "\n",
    "# Pipelines for under-sampling\n",
    "under_pipeline_lr = Pipeline(steps=[('under', under_sampler), ('logistic', logistic_regression)])\n",
    "\n",
    "# Train and evaluate Logistic Regression with over-sampling\n",
    "over_pipeline_lr.fit(X_train, y_train)\n",
    "y_pred_over_lr = over_pipeline_lr.predict(X_val)\n",
    "print(\"Logistic Regression with Over-Sampling:\\n\", classification_report(y_val, y_pred_over_lr))\n",
    "\n",
    "# Train and evaluate Logistic Regression with under-sampling\n",
    "under_pipeline_lr.fit(X_train, y_train)\n",
    "y_pred_under_lr = under_pipeline_lr.predict(X_val)\n",
    "print(\"Logistic Regression with Under-Sampling:\\n\", classification_report(y_val, y_pred_under_lr))\n"
   ]
  },
  {
   "cell_type": "markdown",
   "id": "098ed6ca-00dd-4788-b87b-2028539dea4a",
   "metadata": {},
   "source": [
    "## XGBoost Model with the SMOTEENN"
   ]
  },
  {
   "cell_type": "code",
   "execution_count": 11,
   "id": "73c921e8-3cee-4199-af9c-02ccfb70a77e",
   "metadata": {},
   "outputs": [
    {
     "name": "stdout",
     "output_type": "stream",
     "text": [
      "Accuracy: 0.9987797082921727\n",
      "Classification Report:\n",
      "              precision    recall  f1-score   support\n",
      "\n",
      "           0       1.00      1.00      1.00     34352\n",
      "           1       0.64      0.85      0.73        66\n",
      "\n",
      "    accuracy                           1.00     34418\n",
      "   macro avg       0.82      0.92      0.86     34418\n",
      "weighted avg       1.00      1.00      1.00     34418\n",
      "\n"
     ]
    }
   ],
   "source": [
    "\n",
    "# Assuming scaled_train_df is already defined\n",
    "X = scaled_train_df.drop('Class', axis=1)\n",
    "y = scaled_train_df['Class']\n",
    "\n",
    "# Split the data into training and validation sets\n",
    "X_train, X_val, y_train, y_val = train_test_split(X, y, test_size=0.2, random_state=42)\n",
    "\n",
    "# Apply SMOTEENN to balance the dataset\n",
    "smote_enn = SMOTEENN(random_state=42)\n",
    "X_train_resampled, y_train_resampled = smote_enn.fit_resample(X_train, y_train)\n",
    "\n",
    "# Train XGBoost model\n",
    "xgb_model = xgb.XGBClassifier(use_label_encoder=False, eval_metric='logloss', scale_pos_weight=10)\n",
    "xgb_model.fit(X_train_resampled, y_train_resampled)\n",
    "\n",
    "# Make predictions\n",
    "y_pred_xgb = xgb_model.predict(X_val)\n",
    "\n",
    "# Evaluate the model\n",
    "accuracy_xgb = accuracy_score(y_val, y_pred_xgb)\n",
    "report_xgb = classification_report(y_val, y_pred_xgb)\n",
    "\n",
    "print(f'Accuracy: {accuracy_xgb}')\n",
    "print(f'Classification Report:\\n{report_xgb}')"
   ]
  },
  {
   "cell_type": "markdown",
   "id": "3cd408e0-047a-49e6-b031-984e104d3873",
   "metadata": {},
   "source": [
    "## XGBoost model achieved a high level of accuracy and a significant improvement in precision for fraud detection.\n",
    "\n",
    "\n",
    "- **Overall Accuracy: 0.9988**\n",
    "- **Precision for Fraud (Class 1): 0.64**\n",
    "- **Recall for Fraud (Class 1): 0.85**\n",
    "\n",
    "With these metrics, the XGBoost model accurately and effectively catches fraud cases without as many false alarms.\n"
   ]
  },
  {
   "cell_type": "code",
   "execution_count": 13,
   "id": "fe62a774-425b-4111-a8c6-bee51e70feb1",
   "metadata": {
    "scrolled": true
   },
   "outputs": [
    {
     "name": "stdout",
     "output_type": "stream",
     "text": [
      "Fitting 3 folds for each of 972 candidates, totalling 2916 fits\n",
      "Best Parameters: {'colsample_bytree': 0.5, 'learning_rate': 0.2, 'max_depth': 12, 'n_estimators': 300, 'scale_pos_weight': 1, 'subsample': 0.7}\n",
      "Accuracy: 0.9993026904526701\n",
      "Classification Report:\n",
      "              precision    recall  f1-score   support\n",
      "\n",
      "           0       1.00      1.00      1.00     34352\n",
      "           1       0.80      0.85      0.82        66\n",
      "\n",
      "    accuracy                           1.00     34418\n",
      "   macro avg       0.90      0.92      0.91     34418\n",
      "weighted avg       1.00      1.00      1.00     34418\n",
      "\n"
     ]
    }
   ],
   "source": [
    "# Define the parameter grid for GridSearchCV\n",
    "param_grid = {\n",
    "    'max_depth': [3, 6, 9, 12],\n",
    "    'learning_rate': [0.01, 0.1, 0.2],\n",
    "    'n_estimators': [100, 200, 300],\n",
    "    'scale_pos_weight': [1, 10, 25],\n",
    "    'subsample': [0.5, 0.7, 1.0],\n",
    "    'colsample_bytree': [0.5, 0.7, 1.0]\n",
    "}\n",
    "\n",
    "# Create the XGBoost model\n",
    "xgb_model = xgb.XGBClassifier(use_label_encoder=False, eval_metric='logloss')\n",
    "\n",
    "# Create the GridSearchCV object\n",
    "grid_search = GridSearchCV(estimator=xgb_model, param_grid=param_grid, cv=3, n_jobs=-1, verbose=2)\n",
    "\n",
    "# Fit the grid search to the data\n",
    "grid_search.fit(X_train_resampled, y_train_resampled)\n",
    "\n",
    "# Get the best parameters and model\n",
    "best_params = grid_search.best_params_\n",
    "best_xgb_model = grid_search.best_estimator_\n",
    "\n",
    "print(f'Best Parameters: {best_params}')\n",
    "\n",
    "# Evaluate the best model\n",
    "y_pred_best_xgb = best_xgb_model.predict(X_val)\n",
    "accuracy_best_xgb = accuracy_score(y_val, y_pred_best_xgb)\n",
    "report_best_xgb = classification_report(y_val, y_pred_best_xgb)\n",
    "\n",
    "print(f'Accuracy: {accuracy_best_xgb}')\n",
    "print(f'Classification Report:\\n{report_best_xgb}')\n"
   ]
  },
  {
   "cell_type": "code",
   "execution_count": 14,
   "id": "87f9206e-36b8-47ba-a201-a2fdd78a063a",
   "metadata": {},
   "outputs": [
    {
     "name": "stdout",
     "output_type": "stream",
     "text": [
      "Feature: V1, Importance: 0.00722165172919631\n",
      "Feature: V2, Importance: 0.006295321974903345\n",
      "Feature: V3, Importance: 0.017332764342427254\n",
      "Feature: V4, Importance: 0.04233844578266144\n",
      "Feature: V5, Importance: 0.01314390730112791\n",
      "Feature: V6, Importance: 0.0017116775270551443\n",
      "Feature: V7, Importance: 0.011552827432751656\n",
      "Feature: V8, Importance: 0.02468709647655487\n",
      "Feature: V9, Importance: 0.009414528496563435\n",
      "Feature: V10, Importance: 0.023424964398145676\n",
      "Feature: V11, Importance: 0.010919311083853245\n",
      "Feature: V12, Importance: 0.04209097474813461\n",
      "Feature: V13, Importance: 0.00797739066183567\n",
      "Feature: V14, Importance: 0.6439289450645447\n",
      "Feature: V15, Importance: 0.004135318100452423\n",
      "Feature: V16, Importance: 0.002796565182507038\n",
      "Feature: V17, Importance: 0.010846182703971863\n",
      "Feature: V18, Importance: 0.012787590734660625\n",
      "Feature: V19, Importance: 0.009568555280566216\n",
      "Feature: V20, Importance: 0.012514466419816017\n",
      "Feature: V21, Importance: 0.006378164980560541\n",
      "Feature: V22, Importance: 0.0025846639182418585\n",
      "Feature: V23, Importance: 0.017048293724656105\n",
      "Feature: V24, Importance: 0.010663232766091824\n",
      "Feature: V25, Importance: 0.0068874843418598175\n",
      "Feature: V26, Importance: 0.010239735245704651\n",
      "Feature: V27, Importance: 0.0034451221581548452\n",
      "Feature: V28, Importance: 0.006855453364551067\n",
      "Feature: scaled_amount, Importance: 0.008922879584133625\n",
      "Feature: scaled_time, Importance: 0.012286455370485783\n"
     ]
    },
    {
     "data": {
      "image/png": "[encoded data removed]",
      "text/plain": [
       "<Figure size 1000x600 with 1 Axes>"
      ]
     },
     "metadata": {},
     "output_type": "display_data"
    }
   ],
   "source": [
    "# Train the XGBoost model again if needed\n",
    "xgb_model.fit(X_train_resampled, y_train_resampled)\n",
    "\n",
    "# Get feature importances\n",
    "importances = xgb_model.feature_importances_\n",
    "\n",
    "# Print or plot the feature importances\n",
    "for feature, importance in zip(X_train.columns, importances):\n",
    "    print(f\"Feature: {feature}, Importance: {importance}\")\n",
    "\n",
    "# Optionally, plot the feature importances for a visual aid\n",
    "importances = xgb_model.feature_importances_\n",
    "indices = np.argsort(importances)[::-1]\n",
    "\n",
    "plt.figure(figsize=(10, 6))\n",
    "plt.barh(range(len(importances)), importances[indices], align='center')\n",
    "plt.yticks(range(len(importances)), [X_train.columns[i] for i in indices])\n",
    "plt.xlabel('Importance')\n",
    "plt.ylabel('Feature')\n",
    "plt.title('Feature Importances (Descending)')\n",
    "plt.gca().invert_yaxis()\n",
    "plt.show()\n"
   ]
  },
  {
   "cell_type": "code",
   "execution_count": 15,
   "id": "aaf260ca-8110-4373-8e2e-7bbf60a97a8e",
   "metadata": {},
   "outputs": [
    {
     "name": "stdout",
     "output_type": "stream",
     "text": [
      "Accuracy: 0.9989830902434772\n",
      "Classification Report:\n",
      "              precision    recall  f1-score   support\n",
      "\n",
      "           0       1.00      1.00      1.00     34352\n",
      "           1       0.69      0.85      0.76        66\n",
      "\n",
      "    accuracy                           1.00     34418\n",
      "   macro avg       0.85      0.92      0.88     34418\n",
      "weighted avg       1.00      1.00      1.00     34418\n",
      "\n"
     ]
    }
   ],
   "source": [
    "# Select top N important features (adjust N as needed)\n",
    "N = 20\n",
    "important_indices = np.argsort(importances)[-N:]\n",
    "\n",
    "X_train_important = X_train_resampled.iloc[:, important_indices]\n",
    "X_val_important = X_val.iloc[:, important_indices]\n",
    "\n",
    "# Train the XGBoost model with the important features\n",
    "xgb_model_important = xgb.XGBClassifier(use_label_encoder=False, eval_metric='logloss', scale_pos_weight=10)\n",
    "xgb_model_important.fit(X_train_important, y_train_resampled)\n",
    "\n",
    "# Make predictions\n",
    "y_pred_important = xgb_model_important.predict(X_val_important)\n",
    "\n",
    "# Evaluate the model\n",
    "accuracy_important = accuracy_score(y_val, y_pred_important)\n",
    "report_important = classification_report(y_val, y_pred_important)\n",
    "\n",
    "print(f'Accuracy: {accuracy_important}')\n",
    "print(f'Classification Report:\\n{report_important}')\n"
   ]
  },
  {
   "cell_type": "code",
   "execution_count": 16,
   "id": "4307bc49-72c3-4c0c-b5f7-f1f7a8f296de",
   "metadata": {},
   "outputs": [],
   "source": [
    "import pickle\n",
    "# Save the model to a file\n",
    "with open('best_xgb_model.pkl', 'wb') as file:\n",
    "    pickle.dump(best_xgb_model, file)"
   ]
  },
  {
   "cell_type": "code",
   "execution_count": 17,
   "id": "6b161b9e-0169-4545-b595-9860a585438c",
   "metadata": {},
   "outputs": [],
   "source": [
    "# Later use X_test \n",
    "# Load the model from the file\n",
    "with open('best_xgb_model.pkl', 'rb') as file:\n",
    "    loaded_model = pickle.load(file)\n",
    "# Use the loaded model to make predictions\n",
    "predictions = loaded_model.predict(X_train)"
   ]
  },
  {
   "cell_type": "code",
   "execution_count": 18,
   "id": "9b2b62ce-9049-4947-9e78-11cc439bba05",
   "metadata": {},
   "outputs": [],
   "source": [
    "scaled_test_df = pd.read_csv('../Resources/scaled_test_data.csv')"
   ]
  },
  {
   "cell_type": "code",
   "execution_count": 19,
   "id": "cc533872-c88c-4988-bbe3-68302f29483a",
   "metadata": {},
   "outputs": [],
   "source": [
    "# Drop the Class for the scaled_test data \n",
    "X_test = scaled_test_df.drop('Class', axis=1)\n",
    "y_test = scaled_test_df['Class']"
   ]
  },
  {
   "cell_type": "code",
   "execution_count": 20,
   "id": "d0a25b42-7da9-4875-92f9-0cd8e12cbc21",
   "metadata": {},
   "outputs": [],
   "source": [
    "# Later use X_test \n",
    "# Load the model from the file\n",
    "with open('best_xgb_model.pkl', 'rb') as file:\n",
    "    loaded_model = pickle.load(file)\n",
    "# Use the loaded model to make predictions\n",
    "predictions = loaded_model.predict(X_test)"
   ]
  },
  {
   "cell_type": "code",
   "execution_count": 21,
   "id": "1b3d33ad-9fc3-4bf8-8a43-34e314998c82",
   "metadata": {},
   "outputs": [
    {
     "data": {
      "text/plain": [
       "81"
      ]
     },
     "execution_count": 21,
     "metadata": {},
     "output_type": "execute_result"
    }
   ],
   "source": [
    "ssr = ((predictions - y_test)**2).sum()\n",
    "ssr"
   ]
  },
  {
   "cell_type": "code",
   "execution_count": 40,
   "id": "d33c6398-9f29-4864-b26e-00b508ced164",
   "metadata": {},
   "outputs": [
    {
     "name": "stdout",
     "output_type": "stream",
     "text": [
      "Accuracy: 0.9992813861263163\n",
      "Classification Report:\n",
      "              precision    recall  f1-score   support\n",
      "\n",
      "           0       1.00      1.00      1.00    112585\n",
      "           1       0.66      0.79      0.72       132\n",
      "\n",
      "    accuracy                           1.00    112717\n",
      "   macro avg       0.83      0.89      0.86    112717\n",
      "weighted avg       1.00      1.00      1.00    112717\n",
      "\n"
     ]
    }
   ],
   "source": [
    "# Production with the best model\n",
    "with open('best_xgb_model.pkl', 'rb') as file:\n",
    "    loaded_xgb_model = pickle.load(file)\n",
    "y_pred = loaded_xgb_model.predict(X_test)\n",
    "accuracy_production_xgb = accuracy_score(y_test, y_pred)\n",
    "report_production_xgb = classification_report(y_test, y_pred)\n",
    "\n",
    "print(f'Accuracy: {accuracy_production_xgb}')\n",
    "print(f'Classification Report:\\n{report_production_xgb}')\n"
   ]
  },
  {
   "cell_type": "code",
   "execution_count": null,
   "id": "1e3b1094-4a74-4e7e-9b38-36bf84e498e4",
   "metadata": {},
   "outputs": [],
   "source": []
  }
 ],
 "metadata": {
  "kernelspec": {
   "display_name": "Python 3 (ipykernel)",
   "language": "python",
   "name": "python3"
  },
  "language_info": {
   "codemirror_mode": {
    "name": "ipython",
    "version": 3
   },
   "file_extension": ".py",
   "mimetype": "text/x-python",
   "name": "python",
   "nbconvert_exporter": "python",
   "pygments_lexer": "ipython3",
   "version": "3.12.4"
  }
 },
 "nbformat": 4,
 "nbformat_minor": 5
}
