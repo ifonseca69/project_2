{
 "cells": [
  {
   "cell_type": "code",
   "execution_count": null,
   "id": "77055bb9-44fd-4d6a-8b42-2f2da5a1c099",
   "metadata": {},
   "outputs": [],
   "source": [
    "Decision Tree Imports"
   ]
  },
  {
   "cell_type": "code",
   "execution_count": null,
   "id": "de90be3e-3f61-4067-8e74-f0ecdc94b27a",
   "metadata": {},
   "outputs": [],
   "source": [
    "from sklearn.tree import DecisionTreeClassifier\n",
    "from sklearn.model_selection import train_test_split\n",
    "from sklearn.datasets import load_iris\n",
    "from sklearn import tree\n"
   ]
  },
  {
   "cell_type": "code",
   "execution_count": null,
   "id": "2d3cf305-61b9-4fd2-9eac-f70ef2a6432c",
   "metadata": {},
   "outputs": [],
   "source": [
    "KNN Imports"
   ]
  },
  {
   "cell_type": "code",
   "execution_count": null,
   "id": "af6bb268-4f9a-4dd2-8074-eedcbcdb4edb",
   "metadata": {},
   "outputs": [],
   "source": [
    "from sklearn.neighbors import KNeighborsClassifier\n",
    "from sklearn.model_selection import train_test_split\n",
    "from sklearn.datasets import load_iris"
   ]
  }
 ],
 "metadata": {
  "kernelspec": {
   "display_name": "Python 3 (ipykernel)",
   "language": "python",
   "name": "python3"
  },
  "language_info": {
   "codemirror_mode": {
    "name": "ipython",
    "version": 3
   },
   "file_extension": ".py",
   "mimetype": "text/x-python",
   "name": "python",
   "nbconvert_exporter": "python",
   "pygments_lexer": "ipython3",
   "version": "3.10.14"
  }
 },
 "nbformat": 4,
 "nbformat_minor": 5
}
